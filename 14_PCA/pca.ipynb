{
 "cells": [
  {
   "cell_type": "code",
   "execution_count": 14,
   "id": "fdf0483c",
   "metadata": {},
   "outputs": [],
   "source": [
    "import pandas as pd\n",
    "import matplotlib.pyplot as plt\n",
    "import warnings\n",
    "\n",
    "from sklearn.preprocessing import LabelEncoder\n",
    "from sklearn.preprocessing import StandardScaler\n",
    "from sklearn.model_selection import train_test_split\n",
    "from sklearn.ensemble import RandomForestClassifier\n",
    "from sklearn.decomposition import PCA\n",
    "\n",
    "warnings.filterwarnings('ignore')"
   ]
  },
  {
   "cell_type": "markdown",
   "id": "beac31d4",
   "metadata": {},
   "source": [
    "# Data Preprocessing"
   ]
  },
  {
   "cell_type": "code",
   "execution_count": null,
   "id": "21778328",
   "metadata": {},
   "outputs": [],
   "source": [
    "# https://www.kaggle.com/fedesoriano/heart-failure-prediction\n",
    "df = pd.read_csv(\"heart.csv\")\n",
    "df"
   ]
  },
  {
   "cell_type": "markdown",
   "id": "f7746a2a",
   "metadata": {},
   "source": [
    "### Remove outliers"
   ]
  },
  {
   "cell_type": "code",
   "execution_count": 3,
   "id": "6f94c362",
   "metadata": {},
   "outputs": [],
   "source": [
    "def remove_outliers(df, feat):\n",
    "    df = df[feat<=(feat.mean()+3*feat.std())]\n",
    "    if feat.mean()-3*feat.std() > 0:\n",
    "        df = df[feat>=(feat.mean()-3*feat.std())]\n",
    "    return df"
   ]
  },
  {
   "cell_type": "code",
   "execution_count": 4,
   "id": "32649159",
   "metadata": {},
   "outputs": [],
   "source": [
    "df = remove_outliers(df, df.RestingBP)\n",
    "df = remove_outliers(df, df.Cholesterol)\n",
    "df = remove_outliers(df, df.MaxHR)\n",
    "df = remove_outliers(df, df.Oldpeak)"
   ]
  },
  {
   "cell_type": "code",
   "execution_count": null,
   "id": "c3488ed5",
   "metadata": {
    "scrolled": false
   },
   "outputs": [],
   "source": [
    "df"
   ]
  },
  {
   "cell_type": "markdown",
   "id": "fd9795ec",
   "metadata": {},
   "source": [
    "### Label Encoder"
   ]
  },
  {
   "cell_type": "code",
   "execution_count": 6,
   "id": "b7e2b76d",
   "metadata": {},
   "outputs": [],
   "source": [
    "le = LabelEncoder()\n",
    "df.Sex = le.fit_transform(df.Sex)\n",
    "df.ChestPainType = le.fit_transform(df.ChestPainType)\n",
    "df.RestingECG = le.fit_transform(df.RestingECG)\n",
    "df.ST_Slope = le.fit_transform(df.ST_Slope)\n",
    "df.ExerciseAngina = le.fit_transform(df.ExerciseAngina)"
   ]
  },
  {
   "cell_type": "code",
   "execution_count": null,
   "id": "aaaaccfb",
   "metadata": {
    "scrolled": false
   },
   "outputs": [],
   "source": [
    "df"
   ]
  },
  {
   "cell_type": "markdown",
   "id": "63008d71",
   "metadata": {},
   "source": [
    "### Scaler Data"
   ]
  },
  {
   "cell_type": "code",
   "execution_count": 10,
   "id": "7e01330e",
   "metadata": {},
   "outputs": [],
   "source": [
    "y = df.HeartDisease\n",
    "X = df.drop('HeartDisease', axis='columns')\n",
    "\n",
    "scaler = StandardScaler()\n",
    "X_scaled = scaler.fit_transform(X)"
   ]
  },
  {
   "cell_type": "markdown",
   "id": "e8d48354",
   "metadata": {},
   "source": [
    "### Split"
   ]
  },
  {
   "cell_type": "code",
   "execution_count": 11,
   "id": "53850195",
   "metadata": {},
   "outputs": [],
   "source": [
    "X_train, X_test, y_train, y_test = train_test_split(X_scaled, y, test_size=0.2, random_state=30)"
   ]
  },
  {
   "cell_type": "markdown",
   "id": "63f719d3",
   "metadata": {},
   "source": [
    "# Model Example Random Forest"
   ]
  },
  {
   "cell_type": "code",
   "execution_count": 13,
   "id": "9bf26565",
   "metadata": {},
   "outputs": [
    {
     "data": {
      "text/plain": [
       "0.8777777777777778"
      ]
     },
     "execution_count": 13,
     "metadata": {},
     "output_type": "execute_result"
    }
   ],
   "source": [
    "model_rf = RandomForestClassifier()\n",
    "model_rf.fit(X_train, y_train)\n",
    "model_rf.score(X_test, y_test)"
   ]
  },
  {
   "cell_type": "markdown",
   "id": "6ef14eb4",
   "metadata": {},
   "source": [
    "# Remove uninformative features"
   ]
  },
  {
   "cell_type": "code",
   "execution_count": 45,
   "id": "ef084e61",
   "metadata": {},
   "outputs": [
    {
     "data": {
      "text/plain": [
       "(900, 4)"
      ]
     },
     "execution_count": 45,
     "metadata": {},
     "output_type": "execute_result"
    }
   ],
   "source": [
    "pca = PCA(n_components=0.999)\n",
    "X_pca = pca.fit_transform(X)\n",
    "X_pca.shape"
   ]
  },
  {
   "cell_type": "code",
   "execution_count": 46,
   "id": "5d0d85a7",
   "metadata": {},
   "outputs": [],
   "source": [
    "X_train_pca, X_test_pca, y_train, y_test = train_test_split(X_pca, y, test_size=0.2, random_state=30)"
   ]
  },
  {
   "cell_type": "code",
   "execution_count": 47,
   "id": "10155ab6",
   "metadata": {},
   "outputs": [
    {
     "data": {
      "text/plain": [
       "0.7666666666666667"
      ]
     },
     "execution_count": 47,
     "metadata": {},
     "output_type": "execute_result"
    }
   ],
   "source": [
    "model_rf = RandomForestClassifier()\n",
    "model_rf.fit(X_train_pca, y_train)\n",
    "model_rf.score(X_test_pca, y_test)"
   ]
  },
  {
   "cell_type": "code",
   "execution_count": null,
   "id": "9ee22a5d",
   "metadata": {},
   "outputs": [],
   "source": []
  }
 ],
 "metadata": {
  "kernelspec": {
   "display_name": "Python 3 (ipykernel)",
   "language": "python",
   "name": "python3"
  },
  "language_info": {
   "codemirror_mode": {
    "name": "ipython",
    "version": 3
   },
   "file_extension": ".py",
   "mimetype": "text/x-python",
   "name": "python",
   "nbconvert_exporter": "python",
   "pygments_lexer": "ipython3",
   "version": "3.9.13"
  }
 },
 "nbformat": 4,
 "nbformat_minor": 5
}
