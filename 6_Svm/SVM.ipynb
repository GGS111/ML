{
 "cells": [
  {
   "cell_type": "code",
   "execution_count": 35,
   "id": "fecfae7e",
   "metadata": {},
   "outputs": [],
   "source": [
    "import pandas as pd\n",
    "from sklearn.datasets import load_digits\n",
    "from sklearn.model_selection import train_test_split\n",
    "from sklearn.svm import SVC"
   ]
  },
  {
   "cell_type": "code",
   "execution_count": null,
   "id": "dd1d3156",
   "metadata": {},
   "outputs": [],
   "source": [
    "digits = load_digits()\n",
    "digits"
   ]
  },
  {
   "cell_type": "code",
   "execution_count": null,
   "id": "1ec9ef59",
   "metadata": {
    "scrolled": false
   },
   "outputs": [],
   "source": [
    "df = pd.DataFrame(digits.data)\n",
    "df"
   ]
  },
  {
   "cell_type": "markdown",
   "id": "a4bb9db3",
   "metadata": {},
   "source": [
    "# Create Model"
   ]
  },
  {
   "cell_type": "code",
   "execution_count": 60,
   "id": "aba9bd32",
   "metadata": {},
   "outputs": [],
   "source": [
    "inputs = df\n",
    "target = digits.target\n",
    "X_train, X_test, y_train, y_test = train_test_split(inputs, target, test_size=0.3)"
   ]
  },
  {
   "cell_type": "markdown",
   "id": "4eb6e86b",
   "metadata": {},
   "source": [
    "### Rbf kernel"
   ]
  },
  {
   "cell_type": "code",
   "execution_count": null,
   "id": "aec1039a",
   "metadata": {},
   "outputs": [],
   "source": [
    "rbf_model = SVC(kernel='rbf')\n",
    "rbf_model.get_params()"
   ]
  },
  {
   "cell_type": "code",
   "execution_count": 110,
   "id": "54085871",
   "metadata": {},
   "outputs": [
    {
     "data": {
      "text/plain": [
       "0.9814814814814815"
      ]
     },
     "execution_count": 110,
     "metadata": {},
     "output_type": "execute_result"
    }
   ],
   "source": [
    "rbf_model.fit(X_train, y_train)\n",
    "rbf_model.score(X_test, y_test)"
   ]
  },
  {
   "cell_type": "markdown",
   "id": "32628d87",
   "metadata": {},
   "source": [
    "### Linear kernel"
   ]
  },
  {
   "cell_type": "code",
   "execution_count": null,
   "id": "ebe67d0e",
   "metadata": {},
   "outputs": [],
   "source": [
    "linear_model = SVC(kernel='linear')\n",
    "linear_model.get_params()"
   ]
  },
  {
   "cell_type": "code",
   "execution_count": 112,
   "id": "7f2aa41a",
   "metadata": {},
   "outputs": [
    {
     "data": {
      "text/plain": [
       "0.9703703703703703"
      ]
     },
     "execution_count": 112,
     "metadata": {},
     "output_type": "execute_result"
    }
   ],
   "source": [
    "linear_model.fit(X_train, y_train)\n",
    "linear_model.score(X_test, y_test)"
   ]
  }
 ],
 "metadata": {
  "kernelspec": {
   "display_name": "Python 3 (ipykernel)",
   "language": "python",
   "name": "python3"
  },
  "language_info": {
   "codemirror_mode": {
    "name": "ipython",
    "version": 3
   },
   "file_extension": ".py",
   "mimetype": "text/x-python",
   "name": "python",
   "nbconvert_exporter": "python",
   "pygments_lexer": "ipython3",
   "version": "3.9.13"
  }
 },
 "nbformat": 4,
 "nbformat_minor": 5
}
