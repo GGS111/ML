{
 "cells": [
  {
   "cell_type": "code",
   "execution_count": 1,
   "id": "95688bc6",
   "metadata": {},
   "outputs": [],
   "source": [
    "import numpy as np\n",
    "import xgboost as xgb\n",
    "import catboost as cb\n",
    "import pandas as pd\n",
    "\n",
    "from sklearn.datasets import load_breast_cancer, load_diabetes, load_wine\n",
    "from sklearn.metrics import auc, accuracy_score, confusion_matrix, mean_squared_error\n",
    "from sklearn.model_selection import cross_val_score, GridSearchCV, KFold, RandomizedSearchCV, train_test_split\n",
    "from sklearn.preprocessing import LabelEncoder"
   ]
  },
  {
   "cell_type": "markdown",
   "id": "f4864abb",
   "metadata": {},
   "source": [
    "# Diabet Regression"
   ]
  },
  {
   "cell_type": "code",
   "execution_count": 56,
   "id": "8227308d",
   "metadata": {},
   "outputs": [
    {
     "data": {
      "text/plain": [
       "(442, 10)"
      ]
     },
     "execution_count": 56,
     "metadata": {},
     "output_type": "execute_result"
    }
   ],
   "source": [
    "diabetes = load_diabetes()\n",
    "\n",
    "X = diabetes.data\n",
    "y = diabetes.target\n",
    "X.shape"
   ]
  },
  {
   "cell_type": "code",
   "execution_count": null,
   "id": "f93591aa",
   "metadata": {
    "scrolled": true
   },
   "outputs": [],
   "source": [
    "xgb_model = xgb.XGBRegressor(objective=\"reg:squarederror\",\n",
    "                             n_estimators=1000,\n",
    "                             learning_rate=0.1)\n",
    "print(xgb_model)\n",
    "\n",
    "X_train, X_test, y_train, y_test = train_test_split(X, y, random_state=42)\n",
    "\n",
    "xgb_model.fit(X_train, y_train, eval_set=[(X_test, y_test)])\n",
    "\n",
    "y_pred = xgb_model.predict(X_test)\n",
    "mse=mean_squared_error(y_test, y_pred)\n",
    "print(np.sqrt(mse))\n",
    "\n",
    "xgb_model.score(X_test, y_test)"
   ]
  },
  {
   "cell_type": "code",
   "execution_count": null,
   "id": "f0a8629e",
   "metadata": {
    "scrolled": true
   },
   "outputs": [],
   "source": [
    "catboost = cb.CatBoostRegressor(\n",
    "            loss_function='RMSE',\n",
    "            iterations=1000,\n",
    "            learning_rate=0.1)\n",
    "print(catboost.get_params())\n",
    "\n",
    "X_train, X_test, y_train, y_test = train_test_split(X, y, random_state=42)\n",
    "\n",
    "catboost.fit(X_train, y_train, eval_set=(X_test, y_test))\n",
    "\n",
    "y_pred = catboost.predict(X_test)\n",
    "mse=mean_squared_error(y_test, y_pred)\n",
    "print(np.sqrt(mse))\n",
    "\n",
    "catboost.score(X_test, y_test)"
   ]
  },
  {
   "cell_type": "markdown",
   "id": "e3734d7e",
   "metadata": {},
   "source": [
    "# Cancer Binary Classification"
   ]
  },
  {
   "cell_type": "code",
   "execution_count": 66,
   "id": "4ebd57d0",
   "metadata": {},
   "outputs": [],
   "source": [
    "cancer = load_breast_cancer()\n",
    "\n",
    "X = cancer.data\n",
    "y = cancer.target\n",
    "X_train, X_test, y_train, y_test = train_test_split(X, y, random_state=42)"
   ]
  },
  {
   "cell_type": "code",
   "execution_count": null,
   "id": "04a28d5e",
   "metadata": {},
   "outputs": [],
   "source": [
    "xgb_model = xgb.XGBClassifier(objective=\"binary:logistic\",\n",
    "                             n_estimators=1000,\n",
    "                             learning_rate=0.1)\n",
    "xgb_model.fit(X_train, y_train, eval_set=[(X_test, y_test)])\n",
    "print(xgb_model.score(X_test, y_test))\n",
    "\n",
    "y_pred = xgb_model.predict(X_test)\n",
    "\n",
    "print(confusion_matrix(y_test, y_pred))"
   ]
  },
  {
   "cell_type": "code",
   "execution_count": null,
   "id": "7db59ea1",
   "metadata": {},
   "outputs": [],
   "source": [
    "catboost = cb.CatBoostClassifier(\n",
    "            l2_leaf_reg=0.5,\n",
    "            iterations=1000,\n",
    "            learning_rate=0.1)\n",
    "\n",
    "catboost.fit(X_train, y_train, eval_set=(X_test, y_test))\n",
    "print(catboost.score(X_test, y_test))\n",
    "\n",
    "y_pred = catboost.predict(X_test)\n",
    "\n",
    "print(confusion_matrix(y_test, y_pred))"
   ]
  },
  {
   "cell_type": "markdown",
   "id": "6001f808",
   "metadata": {},
   "source": [
    "# Wine multi Classifier"
   ]
  },
  {
   "cell_type": "code",
   "execution_count": 87,
   "id": "9540b334",
   "metadata": {},
   "outputs": [],
   "source": [
    "wine = load_wine()\n",
    "\n",
    "X = wine.data\n",
    "y = wine.target\n",
    "X_train, X_test, y_train, y_test = train_test_split(X, y, random_state=42)"
   ]
  },
  {
   "cell_type": "code",
   "execution_count": null,
   "id": "84db1910",
   "metadata": {},
   "outputs": [],
   "source": [
    "xgb_model = xgb.XGBClassifier(objective=\"multi:softprob\",\n",
    "                             n_estimators=1000,\n",
    "                             learning_rate=0.1)\n",
    "xgb_model.fit(X_train, y_train, eval_set=[(X_test, y_test)])\n",
    "print(xgb_model.score(X_test, y_test))\n",
    "\n",
    "y_pred = xgb_model.predict(X_test)\n",
    "\n",
    "print(confusion_matrix(y_test, y_pred))"
   ]
  },
  {
   "cell_type": "code",
   "execution_count": null,
   "id": "e20674bb",
   "metadata": {},
   "outputs": [],
   "source": [
    "catboost = cb.CatBoostClassifier(\n",
    "            #l2_leaf_reg=0.5,\n",
    "            iterations=1000,\n",
    "            learning_rate=0.1)\n",
    "\n",
    "catboost.fit(X_train, y_train, eval_set=(X_test, y_test))\n",
    "print(catboost.score(X_test, y_test))\n",
    "\n",
    "y_pred = catboost.predict(X_test)\n",
    "\n",
    "print(confusion_matrix(y_test, y_pred))"
   ]
  },
  {
   "cell_type": "markdown",
   "id": "d9497abc",
   "metadata": {},
   "source": [
    "# Custom Dataset"
   ]
  },
  {
   "cell_type": "code",
   "execution_count": null,
   "id": "23d2d732",
   "metadata": {},
   "outputs": [],
   "source": [
    "df = pd.read_csv('Melbourne_housing_FULL.csv')\n",
    "df"
   ]
  },
  {
   "cell_type": "code",
   "execution_count": null,
   "id": "840cffbd",
   "metadata": {
    "scrolled": false
   },
   "outputs": [],
   "source": [
    "cols_to_use = ['Suburb', 'Rooms', 'Type', 'Method', 'SellerG', 'Regionname', 'Propertycount', \n",
    "               'Distance', 'CouncilArea', 'Bedroom2', 'Bathroom', 'Car', 'Landsize', 'BuildingArea', 'Price']\n",
    "df = df[cols_to_use]\n",
    "\n",
    "cols_to_fill_zero = ['Propertycount', 'Distance', 'Bedroom2', 'Bathroom', 'Car']\n",
    "df[cols_to_fill_zero] = df[cols_to_fill_zero].fillna(0)\n",
    "\n",
    "\n",
    "df['Landsize'] = df['Landsize'].fillna(df.Landsize.mean())\n",
    "df['BuildingArea'] = df['BuildingArea'].fillna(df.BuildingArea.mean())\n",
    "\n",
    "df.dropna(inplace=True)\n",
    "df = pd.get_dummies(df, drop_first=True)\n",
    "df"
   ]
  },
  {
   "cell_type": "markdown",
   "id": "5c385e8d",
   "metadata": {},
   "source": [
    "# Classifier Rooms"
   ]
  },
  {
   "cell_type": "code",
   "execution_count": 107,
   "id": "642fe9a4",
   "metadata": {},
   "outputs": [],
   "source": [
    "X = df.drop(['Rooms'], axis='columns')\n",
    "y = df.Rooms\n",
    "X_train, X_test, y_train, y_test = train_test_split(X, y, random_state=42)"
   ]
  },
  {
   "cell_type": "code",
   "execution_count": null,
   "id": "9ced662a",
   "metadata": {
    "scrolled": true
   },
   "outputs": [],
   "source": [
    "le = LabelEncoder()\n",
    "y_train = le.fit_transform(y_train)\n",
    "y_test = le.fit_transform(y_test)\n",
    "\n",
    "xgb_model = xgb.XGBClassifier(objective=\"multi:softprob\",\n",
    "                             n_estimators=100,\n",
    "                             learning_rate=0.1)\n",
    "xgb_model.fit(X_train, y_train, eval_set=[(X_test, y_test)])\n",
    "print(xgb_model.score(X_test, y_test))\n",
    "\n",
    "y_pred = xgb_model.predict(X_test)\n",
    "\n",
    "print(confusion_matrix(y_test, y_pred))"
   ]
  },
  {
   "cell_type": "code",
   "execution_count": null,
   "id": "23cefc80",
   "metadata": {},
   "outputs": [],
   "source": [
    "catboost = cb.CatBoostClassifier(\n",
    "            #l2_leaf_reg=0.5,\n",
    "            iterations=2000,\n",
    "            learning_rate=0.1)\n",
    "\n",
    "catboost.fit(X_train, y_train, eval_set=(X_test, y_test))\n",
    "print(catboost.score(X_test, y_test))\n",
    "\n",
    "y_pred = catboost.predict(X_test)\n",
    "\n",
    "print(confusion_matrix(y_test, y_pred))"
   ]
  },
  {
   "cell_type": "markdown",
   "id": "77af2605",
   "metadata": {},
   "source": [
    "# Price regression"
   ]
  },
  {
   "cell_type": "code",
   "execution_count": 109,
   "id": "865968f6",
   "metadata": {},
   "outputs": [],
   "source": [
    "X = df.drop(['Price'], axis='columns')\n",
    "y = df.Price\n",
    "X_train, X_test, y_train, y_test = train_test_split(X, y, random_state=42)"
   ]
  },
  {
   "cell_type": "code",
   "execution_count": null,
   "id": "6d545bda",
   "metadata": {
    "scrolled": true
   },
   "outputs": [],
   "source": [
    "xgb_model = xgb.XGBRegressor(objective=\"reg:squarederror\",\n",
    "                             n_estimators=1000,\n",
    "                             learning_rate=0.1)\n",
    "\n",
    "X_train, X_test, y_train, y_test = train_test_split(X, y, random_state=42)\n",
    "\n",
    "xgb_model.fit(X_train, y_train, eval_set=[(X_test, y_test)])\n",
    "\n",
    "y_pred = xgb_model.predict(X_test)\n",
    "mse=mean_squared_error(y_test, y_pred)\n",
    "print(np.sqrt(mse))\n",
    "\n",
    "xgb_model.score(X_test, y_test)"
   ]
  },
  {
   "cell_type": "code",
   "execution_count": null,
   "id": "b4230403",
   "metadata": {},
   "outputs": [],
   "source": [
    "catboost = cb.CatBoostRegressor(\n",
    "            loss_function='RMSE',\n",
    "            iterations=5000,\n",
    "            learning_rate=0.1)\n",
    "print(catboost.get_params())\n",
    "\n",
    "X_train, X_test, y_train, y_test = train_test_split(X, y, random_state=42)\n",
    "\n",
    "catboost.fit(X_train, y_train, eval_set=(X_test, y_test))\n",
    "\n",
    "y_pred = catboost.predict(X_test)\n",
    "mse=mean_squared_error(y_test, y_pred)\n",
    "print(np.sqrt(mse))\n",
    "\n",
    "catboost.score(X_test, y_test)"
   ]
  },
  {
   "cell_type": "code",
   "execution_count": null,
   "id": "be8e1395",
   "metadata": {},
   "outputs": [],
   "source": []
  }
 ],
 "metadata": {
  "kernelspec": {
   "display_name": "Python 3 (ipykernel)",
   "language": "python",
   "name": "python3"
  },
  "language_info": {
   "codemirror_mode": {
    "name": "ipython",
    "version": 3
   },
   "file_extension": ".py",
   "mimetype": "text/x-python",
   "name": "python",
   "nbconvert_exporter": "python",
   "pygments_lexer": "ipython3",
   "version": "3.9.13"
  }
 },
 "nbformat": 4,
 "nbformat_minor": 5
}
